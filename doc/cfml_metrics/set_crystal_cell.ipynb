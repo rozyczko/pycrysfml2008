{
 "cells": [
  {
   "cell_type": "code",
   "execution_count": 1,
   "id": "eb0b2e51",
   "metadata": {},
   "outputs": [],
   "source": [
    "from pycrysfml08 import py_cfml_metrics\n",
    "import numpy as np\n",
    "\n",
    "# Hexagonal cell\n",
    "\n",
    "abc = np.array([4.0,4.0,6.0],dtype=np.float32)\n",
    "albega = np.array([90.0,90.0,120.0],dtype=np.float32)\n",
    "\n",
    "err,err_mess,cell = py_cfml_metrics.set_crystal_cell(abc,albega,{\"cartype\":\"CA\"})"
   ]
  },
  {
   "cell_type": "code",
   "execution_count": 2,
   "id": "df1adddf",
   "metadata": {},
   "outputs": [
    {
     "data": {
      "text/plain": [
       "{'fortran_type': 'cell_g_type',\n",
       " 'cell': array([4., 4., 6.], dtype=float32),\n",
       " 'scell': array([0., 0., 0.], dtype=float32),\n",
       " 'ang': array([ 90.,  90., 120.], dtype=float32),\n",
       " 'sang': array([0., 0., 0.], dtype=float32),\n",
       " 'vol': 83.13843536376953,\n",
       " 'svol': 0.0,\n",
       " 'rcell': array([0.28867513, 0.28867513, 0.16666667], dtype=float32),\n",
       " 'rang': array([90., 90., 60.], dtype=float32),\n",
       " 'rvol': 0.012028130702674389,\n",
       " 'gd': array([[16., -8.,  0.],\n",
       "        [-8., 16.,  0.],\n",
       "        [ 0.,  0., 36.]], dtype=float32),\n",
       " 'gr': array([[0.08333333, 0.04166666, 0.        ],\n",
       "        [0.04166666, 0.08333333, 0.        ],\n",
       "        [0.        , 0.        , 0.02777778]], dtype=float32),\n",
       " 'cr_orth_cel': array([[ 3.4641016,  0.       ,  0.       ],\n",
       "        [-2.       ,  4.       ,  0.       ],\n",
       "        [ 0.       ,  0.       ,  6.       ]], dtype=float32),\n",
       " 'orth_cr_cel': array([[ 0.28867513, -0.        ,  0.        ],\n",
       "        [ 0.14433756,  0.24999999, -0.        ],\n",
       "        [-0.        , -0.        ,  0.16666667]], dtype=float32),\n",
       " 'bl_m': array([[ 0.28867513,  0.14433756, -0.        ],\n",
       "        [-0.        ,  0.24999999, -0.        ],\n",
       "        [ 0.        , -0.        ,  0.16666667]], dtype=float32),\n",
       " 'inv_bl_m': array([[ 3.4641016, -2.       ,  0.       ],\n",
       "        [ 0.       ,  4.       ,  0.       ],\n",
       "        [ 0.       ,  0.       ,  6.       ]], dtype=float32),\n",
       " 'cartype': 'CA'}"
      ]
     },
     "execution_count": 2,
     "metadata": {},
     "output_type": "execute_result"
    }
   ],
   "source": [
    "cell"
   ]
  },
  {
   "cell_type": "code",
   "execution_count": null,
   "id": "561d9dfb",
   "metadata": {},
   "outputs": [],
   "source": []
  }
 ],
 "metadata": {
  "kernelspec": {
   "display_name": "Python 3 (ipykernel)",
   "language": "python",
   "name": "python3"
  },
  "language_info": {
   "codemirror_mode": {
    "name": "ipython",
    "version": 3
   },
   "file_extension": ".py",
   "mimetype": "text/x-python",
   "name": "python",
   "nbconvert_exporter": "python",
   "pygments_lexer": "ipython3",
   "version": "3.7.4"
  }
 },
 "nbformat": 4,
 "nbformat_minor": 5
}
