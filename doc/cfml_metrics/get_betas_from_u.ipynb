{
 "cells": [
  {
   "cell_type": "code",
   "execution_count": 1,
   "id": "f48bf113",
   "metadata": {},
   "outputs": [],
   "source": [
    "from pycrysfml08 import py_cfml_metrics\n",
    "import numpy as np\n",
    "\n",
    "# Generate a cell\n",
    "\n",
    "abc = np.array([4.0,5.0,6.0],dtype=np.float32)\n",
    "albega = np.array([90.0,90.0,90.0],dtype=np.float32)\n",
    "err,err_mess,cell = py_cfml_metrics.set_crystal_cell(abc,albega)\n",
    "\n",
    "# Set u values\n",
    "\n",
    "u = np.array([0.00633257,0.00633257,0.00633257,0.,0.,0.], dtype=np.float32)"
   ]
  },
  {
   "cell_type": "code",
   "execution_count": 2,
   "id": "29ec7d19",
   "metadata": {},
   "outputs": [],
   "source": [
    "err,err_mess,betas = py_cfml_metrics.get_betas_from_u(u,cell)"
   ]
  },
  {
   "cell_type": "code",
   "execution_count": 3,
   "id": "1ace8daf",
   "metadata": {},
   "outputs": [
    {
     "data": {
      "text/plain": [
       "array([0.0078125 , 0.005     , 0.00347222, 0.        , 0.        ,\n",
       "       0.        ], dtype=float32)"
      ]
     },
     "execution_count": 3,
     "metadata": {},
     "output_type": "execute_result"
    }
   ],
   "source": [
    "betas"
   ]
  },
  {
   "cell_type": "code",
   "execution_count": null,
   "id": "296c8a6e",
   "metadata": {},
   "outputs": [],
   "source": []
  }
 ],
 "metadata": {
  "kernelspec": {
   "display_name": "Python 3 (ipykernel)",
   "language": "python",
   "name": "python3"
  },
  "language_info": {
   "codemirror_mode": {
    "name": "ipython",
    "version": 3
   },
   "file_extension": ".py",
   "mimetype": "text/x-python",
   "name": "python",
   "nbconvert_exporter": "python",
   "pygments_lexer": "ipython3",
   "version": "3.7.4"
  }
 },
 "nbformat": 4,
 "nbformat_minor": 5
}
