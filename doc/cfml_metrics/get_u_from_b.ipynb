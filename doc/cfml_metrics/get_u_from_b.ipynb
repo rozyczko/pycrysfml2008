{
 "cells": [
  {
   "cell_type": "code",
   "execution_count": 1,
   "id": "f48bf113",
   "metadata": {},
   "outputs": [],
   "source": [
    "from pycrysfml08 import py_cfml_metrics\n",
    "import numpy as np\n",
    "\n",
    "# Set B values\n",
    "\n",
    "b = np.array([0.5,0.5,0.5,0.,0.,0.], dtype=np.float32)"
   ]
  },
  {
   "cell_type": "code",
   "execution_count": 2,
   "id": "29ec7d19",
   "metadata": {},
   "outputs": [],
   "source": [
    "err,err_mess,u = py_cfml_metrics.get_u_from_b(b)"
   ]
  },
  {
   "cell_type": "code",
   "execution_count": 3,
   "id": "1ace8daf",
   "metadata": {},
   "outputs": [
    {
     "data": {
      "text/plain": [
       "array([0.00633257, 0.00633257, 0.00633257, 0.        , 0.        ,\n",
       "       0.        ], dtype=float32)"
      ]
     },
     "execution_count": 3,
     "metadata": {},
     "output_type": "execute_result"
    }
   ],
   "source": [
    "u"
   ]
  },
  {
   "cell_type": "code",
   "execution_count": null,
   "id": "296c8a6e",
   "metadata": {},
   "outputs": [],
   "source": []
  }
 ],
 "metadata": {
  "kernelspec": {
   "display_name": "Python 3 (ipykernel)",
   "language": "python",
   "name": "python3"
  },
  "language_info": {
   "codemirror_mode": {
    "name": "ipython",
    "version": 3
   },
   "file_extension": ".py",
   "mimetype": "text/x-python",
   "name": "python",
   "nbconvert_exporter": "python",
   "pygments_lexer": "ipython3",
   "version": "3.7.4"
  }
 },
 "nbformat": 4,
 "nbformat_minor": 5
}
