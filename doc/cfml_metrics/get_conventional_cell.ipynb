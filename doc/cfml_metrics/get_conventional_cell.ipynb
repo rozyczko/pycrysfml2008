{
 "cells": [
  {
   "cell_type": "code",
   "execution_count": 1,
   "id": "ec1f3998",
   "metadata": {},
   "outputs": [],
   "source": [
    "from pycrysfml08 import py_cfml_metrics\n",
    "import numpy as np\n",
    "\n",
    "# Build a primitive cell for a fcc lattice\n",
    "\n",
    "abc = np.array([4.0,4.0,4.0],dtype=np.float32)\n",
    "ang = np.array([60.0,60.0,60.0],dtype=np.float32)\n",
    "\n",
    "err,err_mess,cell = py_cfml_metrics.set_crystal_cell(abc,ang)"
   ]
  },
  {
   "cell_type": "code",
   "execution_count": 2,
   "id": "b73e206f",
   "metadata": {
    "scrolled": true
   },
   "outputs": [],
   "source": [
    "# Get twofold axes\n",
    "\n",
    "tol = 0.1\n",
    "err,err_mess,twofold = py_cfml_metrics.get_twofold_axes(cell,tol)"
   ]
  },
  {
   "cell_type": "code",
   "execution_count": 3,
   "id": "24f4abe7",
   "metadata": {},
   "outputs": [],
   "source": [
    "# Get conventional cell\n",
    "\n",
    "r = py_cfml_metrics.get_conventional_cell(twofold,{'told':0.1})"
   ]
  },
  {
   "cell_type": "code",
   "execution_count": 4,
   "id": "394fbb49",
   "metadata": {},
   "outputs": [
    {
     "data": {
      "text/plain": [
       "{'fortran_type': 'cell_g_type',\n",
       " 'cell': array([5.656854, 5.656854, 5.656854], dtype=float32),\n",
       " 'scell': array([0., 0., 0.], dtype=float32),\n",
       " 'ang': array([90., 90., 90.], dtype=float32),\n",
       " 'sang': array([0., 0., 0.], dtype=float32),\n",
       " 'vol': 181.01931762695312,\n",
       " 'svol': 0.0,\n",
       " 'rcell': array([0.17677669, 0.17677669, 0.17677669], dtype=float32),\n",
       " 'rang': array([90., 90., 90.], dtype=float32),\n",
       " 'rvol': 0.005524272099137306,\n",
       " 'gd': array([[31.999998,  0.      ,  0.      ],\n",
       "        [ 0.      , 31.999998,  0.      ],\n",
       "        [ 0.      ,  0.      , 31.999998]], dtype=float32),\n",
       " 'gr': array([[0.03125, 0.     , 0.     ],\n",
       "        [0.     , 0.03125, 0.     ],\n",
       "        [0.     , 0.     , 0.03125]], dtype=float32),\n",
       " 'cr_orth_cel': array([[ 5.656854,  0.      ,  0.      ],\n",
       "        [-0.      ,  5.656854,  0.      ],\n",
       "        [ 0.      ,  0.      ,  5.656854]], dtype=float32),\n",
       " 'orth_cr_cel': array([[ 0.17677669, -0.        ,  0.        ],\n",
       "        [ 0.        ,  0.17677669, -0.        ],\n",
       "        [-0.        , -0.        ,  0.17677669]], dtype=float32),\n",
       " 'bl_m': array([[ 0.17677669,  0.        , -0.        ],\n",
       "        [-0.        ,  0.17677669, -0.        ],\n",
       "        [ 0.        , -0.        ,  0.17677669]], dtype=float32),\n",
       " 'inv_bl_m': array([[ 5.656854, -0.      ,  0.      ],\n",
       "        [ 0.      ,  5.656854,  0.      ],\n",
       "        [ 0.      ,  0.      ,  5.656854]], dtype=float32),\n",
       " 'cartype': 'CA'}"
      ]
     },
     "execution_count": 4,
     "metadata": {},
     "output_type": "execute_result"
    }
   ],
   "source": [
    "# Conventional cell (face centred cubic, a = 4 * sqrt(2) = 5.6568)\n",
    "\n",
    "r[2]"
   ]
  },
  {
   "cell_type": "code",
   "execution_count": 5,
   "id": "8e11794a",
   "metadata": {},
   "outputs": [
    {
     "data": {
      "text/plain": [
       "array([[ 1, -1, -1],\n",
       "       [ 1, -1,  1],\n",
       "       [-1, -1,  1]])"
      ]
     },
     "execution_count": 5,
     "metadata": {},
     "output_type": "execute_result"
    }
   ],
   "source": [
    "# Transformation matrix\n",
    "\n",
    "r[3]"
   ]
  },
  {
   "cell_type": "code",
   "execution_count": null,
   "id": "2eff9400",
   "metadata": {},
   "outputs": [],
   "source": []
  }
 ],
 "metadata": {
  "kernelspec": {
   "display_name": "Python 3 (ipykernel)",
   "language": "python",
   "name": "python3"
  },
  "language_info": {
   "codemirror_mode": {
    "name": "ipython",
    "version": 3
   },
   "file_extension": ".py",
   "mimetype": "text/x-python",
   "name": "python",
   "nbconvert_exporter": "python",
   "pygments_lexer": "ipython3",
   "version": "3.7.4"
  }
 },
 "nbformat": 4,
 "nbformat_minor": 5
}
