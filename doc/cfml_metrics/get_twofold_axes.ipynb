{
 "cells": [
  {
   "cell_type": "code",
   "execution_count": 1,
   "id": "f48bf113",
   "metadata": {},
   "outputs": [],
   "source": [
    "from pycrysfml08 import py_cfml_metrics\n",
    "import numpy as np\n",
    "\n",
    "# Build an orthorhombic cell\n",
    "\n",
    "abc = np.array([4.0,5.0,6.0],dtype=np.float32)\n",
    "albega = np.array([90.0,90.0,90.0],dtype=np.float32)\n",
    "ee,err_mess,cell = py_cfml_metrics.set_crystal_cell(abc,albega)"
   ]
  },
  {
   "cell_type": "code",
   "execution_count": 2,
   "id": "29ec7d19",
   "metadata": {},
   "outputs": [],
   "source": [
    "tol = 0.1\n",
    "err,err_mess,twofold = py_cfml_metrics.get_twofold_axes(cell,tol)"
   ]
  },
  {
   "cell_type": "code",
   "execution_count": 3,
   "id": "1ace8daf",
   "metadata": {},
   "outputs": [
    {
     "data": {
      "text/plain": [
       "{'fortran_type': 'twofold_axes_type',\n",
       " 'ntwo': 3,\n",
       " 'tol': 0.10000000149011612,\n",
       " 'caxes': array([[4., 0., 0., 0., 0., 0., 0., 0., 0., 0., 0., 0.],\n",
       "        [0., 5., 0., 0., 0., 0., 0., 0., 0., 0., 0., 0.],\n",
       "        [0., 0., 6., 0., 0., 0., 0., 0., 0., 0., 0., 0.]], dtype=float32),\n",
       " 'dtwofold': array([[1, 0, 0, 0, 0, 0, 0, 0, 0, 0, 0, 0],\n",
       "        [0, 1, 0, 0, 0, 0, 0, 0, 0, 0, 0, 0],\n",
       "        [0, 0, 1, 0, 0, 0, 0, 0, 0, 0, 0, 0]]),\n",
       " 'rtwofold': array([[1, 0, 0, 0, 0, 0, 0, 0, 0, 0, 0, 0],\n",
       "        [0, 1, 0, 0, 0, 0, 0, 0, 0, 0, 0, 0],\n",
       "        [0, 0, 1, 0, 0, 0, 0, 0, 0, 0, 0, 0]]),\n",
       " 'dot': array([1, 1, 1, 0, 0, 0, 0, 0, 0, 0, 0, 0]),\n",
       " 'cross': array([0., 0., 0., 0., 0., 0., 0., 0., 0., 0., 0., 0.], dtype=float32),\n",
       " 'maxes': array([4., 5., 6., 0., 0., 0., 0., 0., 0., 0., 0., 0.], dtype=float32),\n",
       " 'a': array([ 4., -0.,  0.], dtype=float32),\n",
       " 'b': array([0., 5., 0.], dtype=float32),\n",
       " 'c': array([0., 0., 6.], dtype=float32)}"
      ]
     },
     "execution_count": 3,
     "metadata": {},
     "output_type": "execute_result"
    }
   ],
   "source": [
    "twofold"
   ]
  },
  {
   "cell_type": "code",
   "execution_count": null,
   "id": "296c8a6e",
   "metadata": {},
   "outputs": [],
   "source": []
  }
 ],
 "metadata": {
  "kernelspec": {
   "display_name": "Python 3 (ipykernel)",
   "language": "python",
   "name": "python3"
  },
  "language_info": {
   "codemirror_mode": {
    "name": "ipython",
    "version": 3
   },
   "file_extension": ".py",
   "mimetype": "text/x-python",
   "name": "python",
   "nbconvert_exporter": "python",
   "pygments_lexer": "ipython3",
   "version": "3.7.4"
  }
 },
 "nbformat": 4,
 "nbformat_minor": 5
}
