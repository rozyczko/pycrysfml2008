{
 "cells": [
  {
   "cell_type": "code",
   "execution_count": 1,
   "id": "764b52e9",
   "metadata": {},
   "outputs": [],
   "source": [
    "from pycrysfml08 import py_cfml_metrics\n",
    "import numpy as np\n",
    "\n",
    "# Generate the cell\n",
    "\n",
    "abc = np.array([4.00,4.00,6.00],dtype=np.float32)\n",
    "albega = np.array([90.0,90.0,120.0],dtype=np.float32)\n",
    "\n",
    "err,err_mess,cell = py_cfml_metrics.set_crystal_cell(abc,albega,{\"cartype\":\"CA\"})"
   ]
  },
  {
   "cell_type": "code",
   "execution_count": 2,
   "id": "1e247e40",
   "metadata": {
    "scrolled": false
   },
   "outputs": [],
   "source": [
    "# Specify setting from a matrix using IT convention\n",
    "\n",
    "m = np.zeros(9,dtype=np.float32).reshape(3,3)\n",
    "m[0][0] = 1\n",
    "m[0][1] = 1\n",
    "m[1][0] =-1\n",
    "m[1][1] = 1\n",
    "m[2][2] = 1\n",
    "err,err_mess,cell_new = py_cfml_metrics.change_setting_cell(cell,m,{\"matkind\":\"IT\"})"
   ]
  },
  {
   "cell_type": "code",
   "execution_count": 3,
   "id": "890b70b3",
   "metadata": {},
   "outputs": [
    {
     "data": {
      "text/plain": [
       "{'fortran_type': 'cell_g_type',\n",
       " 'cell': array([4.      , 6.928203, 6.      ], dtype=float32),\n",
       " 'scell': array([0., 0., 0.], dtype=float32),\n",
       " 'ang': array([90., 90., 90.], dtype=float32),\n",
       " 'sang': array([0., 0., 0.], dtype=float32),\n",
       " 'vol': 166.27687072753906,\n",
       " 'svol': 0.0,\n",
       " 'rcell': array([0.24999999, 0.14433756, 0.16666667], dtype=float32),\n",
       " 'rang': array([90., 90., 90.], dtype=float32),\n",
       " 'rvol': 0.0060140653513371944,\n",
       " 'gd': array([[16.,  0.,  0.],\n",
       "        [ 0., 48.,  0.],\n",
       "        [ 0.,  0., 36.]], dtype=float32),\n",
       " 'gr': array([[0.06249999, 0.        , 0.        ],\n",
       "        [0.        , 0.02083333, 0.        ],\n",
       "        [0.        , 0.        , 0.02777778]], dtype=float32),\n",
       " 'cr_orth_cel': array([[ 4.      ,  0.      ,  0.      ],\n",
       "        [-0.      ,  6.928203,  0.      ],\n",
       "        [ 0.      ,  0.      ,  6.      ]], dtype=float32),\n",
       " 'orth_cr_cel': array([[ 0.24999999, -0.        ,  0.        ],\n",
       "        [ 0.        ,  0.14433756, -0.        ],\n",
       "        [-0.        , -0.        ,  0.16666667]], dtype=float32),\n",
       " 'bl_m': array([[ 0.24999999,  0.        , -0.        ],\n",
       "        [-0.        ,  0.14433756, -0.        ],\n",
       "        [ 0.        , -0.        ,  0.16666667]], dtype=float32),\n",
       " 'inv_bl_m': array([[ 4.      , -0.      ,  0.      ],\n",
       "        [ 0.      ,  6.928203,  0.      ],\n",
       "        [ 0.      ,  0.      ,  6.      ]], dtype=float32),\n",
       " 'cartype': 'CA'}"
      ]
     },
     "execution_count": 3,
     "metadata": {},
     "output_type": "execute_result"
    }
   ],
   "source": [
    "cell_new"
   ]
  },
  {
   "cell_type": "code",
   "execution_count": null,
   "id": "330c63b5",
   "metadata": {},
   "outputs": [],
   "source": []
  }
 ],
 "metadata": {
  "kernelspec": {
   "display_name": "Python 3 (ipykernel)",
   "language": "python",
   "name": "python3"
  },
  "language_info": {
   "codemirror_mode": {
    "name": "ipython",
    "version": 3
   },
   "file_extension": ".py",
   "mimetype": "text/x-python",
   "name": "python",
   "nbconvert_exporter": "python",
   "pygments_lexer": "ipython3",
   "version": "3.7.4"
  }
 },
 "nbformat": 4,
 "nbformat_minor": 5
}
