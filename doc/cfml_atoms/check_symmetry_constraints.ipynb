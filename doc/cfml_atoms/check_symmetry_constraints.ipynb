{
 "cells": [
  {
   "cell_type": "code",
   "execution_count": 7,
   "id": "ec1f3998",
   "metadata": {},
   "outputs": [
    {
     "data": {
      "text/plain": [
       "False"
      ]
     },
     "execution_count": 7,
     "metadata": {},
     "output_type": "execute_result"
    }
   ],
   "source": [
    "from pycrysfml08 import py_cfml_ioform\n",
    "\n",
    "err,err_mess,cell,spg,atlist,mgp,matom,magdom = py_cfml_ioform.read_xtal_structure(\"GdMn2O5.mcif\")\n",
    "\n",
    "atlist['symm_checked']"
   ]
  },
  {
   "cell_type": "code",
   "execution_count": 8,
   "id": "6f3fc25c",
   "metadata": {},
   "outputs": [],
   "source": [
    "from pycrysfml08 import py_cfml_atoms\n",
    "\n",
    "err,err_mess = py_cfml_atoms.check_symmetry_constraints(spg,atlist)"
   ]
  },
  {
   "cell_type": "code",
   "execution_count": 14,
   "id": "4b5d8e8f",
   "metadata": {},
   "outputs": [
    {
     "data": {
      "text/plain": [
       "'atlist_type'"
      ]
     },
     "execution_count": 14,
     "metadata": {},
     "output_type": "execute_result"
    }
   ],
   "source": [
    "atlist['fortran_type']\n",
    "#err,err_mess,atlist['symm_checked']"
   ]
  },
  {
   "cell_type": "code",
   "execution_count": null,
   "id": "d6f6c44d",
   "metadata": {},
   "outputs": [],
   "source": []
  }
 ],
 "metadata": {
  "kernelspec": {
   "display_name": "Python 3 (ipykernel)",
   "language": "python",
   "name": "python3"
  },
  "language_info": {
   "codemirror_mode": {
    "name": "ipython",
    "version": 3
   },
   "file_extension": ".py",
   "mimetype": "text/x-python",
   "name": "python",
   "nbconvert_exporter": "python",
   "pygments_lexer": "ipython3",
   "version": "3.7.4"
  }
 },
 "nbformat": 4,
 "nbformat_minor": 5
}
