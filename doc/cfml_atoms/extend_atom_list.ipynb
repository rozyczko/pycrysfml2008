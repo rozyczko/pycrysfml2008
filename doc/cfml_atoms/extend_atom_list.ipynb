{
 "cells": [
  {
   "cell_type": "code",
   "execution_count": 1,
   "id": "ec1f3998",
   "metadata": {},
   "outputs": [
    {
     "name": "stdout",
     "output_type": "stream",
     "text": [
      "atlist_type\n",
      "4\n"
     ]
    }
   ],
   "source": [
    "from pycrysfml08 import py_cfml_ioform\n",
    "\n",
    "err,err_mess,cell,spg,atlist,mgp,matom,magdom = py_cfml_ioform.read_xtal_structure(\"Fe3O4.cif\")\n",
    "\n",
    "print(atlist['fortran_type'])\n",
    "print(atlist['natoms'])"
   ]
  },
  {
   "cell_type": "code",
   "execution_count": 2,
   "id": "6f3fc25c",
   "metadata": {},
   "outputs": [],
   "source": [
    "from pycrysfml08 import py_cfml_atoms\n",
    "\n",
    "err,err_mess,at_equiv_list = py_cfml_atoms.extend_atom_list(spg,cell,atlist)"
   ]
  },
  {
   "cell_type": "code",
   "execution_count": 3,
   "id": "d6f6c44d",
   "metadata": {},
   "outputs": [
    {
     "name": "stdout",
     "output_type": "stream",
     "text": [
      "atom_equiv_list_type\n",
      "4\n"
     ]
    }
   ],
   "source": [
    "print(at_equiv_list['fortran_type'])\n",
    "print(at_equiv_list['nauas'])"
   ]
  },
  {
   "cell_type": "code",
   "execution_count": 4,
   "id": "22c68cb8-8e1c-4580-a9bd-9ab80ff1c23f",
   "metadata": {},
   "outputs": [
    {
     "name": "stdout",
     "output_type": "stream",
     "text": [
      "atom_equiv_type\n",
      "Symb: Fe\n"
     ]
    }
   ],
   "source": [
    "print(at_equiv_list['atm'][0]['fortran_type']) \n",
    "print(f\"Symb: {at_equiv_list['atm'][0]['chemsymb']}\") "
   ]
  },
  {
   "cell_type": "code",
   "execution_count": null,
   "id": "9b61a8b4-f414-43e5-b344-b6c271f18075",
   "metadata": {},
   "outputs": [],
   "source": []
  }
 ],
 "metadata": {
  "kernelspec": {
   "display_name": "Python 3 (ipykernel)",
   "language": "python",
   "name": "python3"
  },
  "language_info": {
   "codemirror_mode": {
    "name": "ipython",
    "version": 3
   },
   "file_extension": ".py",
   "mimetype": "text/x-python",
   "name": "python",
   "nbconvert_exporter": "python",
   "pygments_lexer": "ipython3",
   "version": "3.11.6"
  }
 },
 "nbformat": 4,
 "nbformat_minor": 5
}
