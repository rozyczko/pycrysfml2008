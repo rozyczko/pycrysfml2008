{
 "cells": [
  {
   "cell_type": "code",
   "execution_count": 1,
   "id": "eb0b2e51",
   "metadata": {},
   "outputs": [],
   "source": [
    "from pycrysfml08 import py_cfml_gspacegroups,py_cfml_metrics\n",
    "import numpy as np\n",
    "\n",
    "# Build an orthorhombic cell and the space group C222\n",
    "\n",
    "abc = np.array([4.0,5.0,6.0],dtype=np.float32)\n",
    "albega = np.array([90.0,90.0,90.0],dtype=np.float32)\n",
    "\n",
    "err,err_mess,cell = py_cfml_metrics.set_crystal_cell(abc,albega)\n",
    "err,err_mess,spg  = py_cfml_gspacegroups.set_spacegroup(\"SPGR C222\")"
   ]
  },
  {
   "cell_type": "code",
   "execution_count": 2,
   "id": "df1adddf",
   "metadata": {},
   "outputs": [],
   "source": [
    "from pycrysfml08 import py_cfml_reflections\n",
    "\n",
    "# Compute reflections \n",
    "\n",
    "stlmin = 0.0\n",
    "stlmax = 1.0\n",
    "order = np.array([1,2,3],dtype=np.int32)\n",
    "hlim = np.array([[-4,4],[-4,4],[-4,4]],dtype=np.int32)\n",
    "\n",
    "err,err_mess,reflist = py_cfml_reflections.hkl_gen_sxtal(cell,spg,stlmin,stlmax,{'ord':order,'hlim':hlim})"
   ]
  },
  {
   "cell_type": "code",
   "execution_count": 3,
   "id": "0296f74f",
   "metadata": {},
   "outputs": [
    {
     "data": {
      "text/plain": [
       "368"
      ]
     },
     "execution_count": 3,
     "metadata": {},
     "output_type": "execute_result"
    }
   ],
   "source": [
    "# Print number of generated reflections\n",
    "\n",
    "reflist['nref']"
   ]
  },
  {
   "cell_type": "code",
   "execution_count": 4,
   "id": "b8ac3ddd",
   "metadata": {},
   "outputs": [
    {
     "name": "stdout",
     "output_type": "stream",
     "text": [
      "[-4 -4 -4], 4, 0.7219\n",
      "[-2 -4 -4], 4, 0.5776\n",
      "[ 0 -4 -4], 4, 0.5207\n",
      "[ 2 -4 -4], 4, 0.5776\n",
      "[ 4 -4 -4], 4, 0.7219\n",
      "[-3 -3 -4], 4, 0.5846\n",
      "[-1 -3 -4], 4, 0.4655\n",
      "[ 1 -3 -4], 4, 0.4655\n",
      "[ 3 -3 -4], 4, 0.5846\n",
      "[-4 -2 -4], 4, 0.6333\n",
      "[-2 -2 -4], 4, 0.4622\n",
      "[ 0 -2 -4], 4, 0.3887\n",
      "[ 2 -2 -4], 4, 0.4622\n",
      "[ 4 -2 -4], 4, 0.6333\n",
      "[-3 -1 -4], 4, 0.5116\n",
      "[-1 -1 -4], 4, 0.3698\n",
      "[ 1 -1 -4], 4, 0.3698\n",
      "[ 3 -1 -4], 4, 0.5116\n",
      "[-4  0 -4], 4, 0.6009\n",
      "[-2  0 -4], 4, 0.4167\n"
     ]
    }
   ],
   "source": [
    "# Print the Miller index, multiplicity and sin(theta) / lambda for the first 20 reflections of the list\n",
    "\n",
    "for i in range(20):\n",
    "    print(f\"{reflist['ref'][i]['h']}, {reflist['ref'][i]['mult']}, {reflist['ref'][i]['s']:.4f}\")"
   ]
  },
  {
   "cell_type": "code",
   "execution_count": null,
   "id": "e8060495",
   "metadata": {},
   "outputs": [],
   "source": []
  }
 ],
 "metadata": {
  "kernelspec": {
   "display_name": "Python 3 (ipykernel)",
   "language": "python",
   "name": "python3"
  },
  "language_info": {
   "codemirror_mode": {
    "name": "ipython",
    "version": 3
   },
   "file_extension": ".py",
   "mimetype": "text/x-python",
   "name": "python",
   "nbconvert_exporter": "python",
   "pygments_lexer": "ipython3",
   "version": "3.7.4"
  }
 },
 "nbformat": 4,
 "nbformat_minor": 5
}
