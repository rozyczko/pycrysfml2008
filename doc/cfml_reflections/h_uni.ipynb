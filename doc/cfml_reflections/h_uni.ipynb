{
 "cells": [
  {
   "cell_type": "code",
   "execution_count": 1,
   "id": "eb0b2e51",
   "metadata": {},
   "outputs": [],
   "source": [
    "from pycrysfml08 import py_cfml_gspacegroups,py_cfml_metrics\n",
    "import numpy as np\n",
    "\n",
    "# Build an orthorhombic cell and the space group C222\n",
    "\n",
    "abc = np.array([4.0,5.0,6.0],dtype=np.float32)\n",
    "albega = np.array([90.0,90.0,90.0],dtype=np.float32)\n",
    "\n",
    "err,err_mess,cell = py_cfml_metrics.set_crystal_cell(abc,albega)\n",
    "err,err_mess,spg  = py_cfml_gspacegroups.set_spacegroup(\"SPGR C222\")"
   ]
  },
  {
   "cell_type": "code",
   "execution_count": 3,
   "id": "df1adddf",
   "metadata": {},
   "outputs": [],
   "source": [
    "from pycrysfml08 import py_cfml_reflections\n",
    "\n",
    "# Compute unique reflections \n",
    "\n",
    "friedel = True\n",
    "vmin = 0.0\n",
    "vmax = 1.0\n",
    "code = 'x'\n",
    "maxref = 1000\n",
    "hlim = np.array([[-4,4],[-4,4],[-4,4]],dtype=np.int32)\n",
    "\n",
    "err,err_mess,reflist = py_cfml_reflections.h_uni(cell,spg,friedel,vmin,vmax,code,maxref,{'hlim':hlim})"
   ]
  },
  {
   "cell_type": "code",
   "execution_count": 4,
   "id": "0296f74f",
   "metadata": {},
   "outputs": [
    {
     "data": {
      "text/plain": [
       "64"
      ]
     },
     "execution_count": 4,
     "metadata": {},
     "output_type": "execute_result"
    }
   ],
   "source": [
    "# Print number of generated reflections\n",
    "\n",
    "reflist['nref']"
   ]
  },
  {
   "cell_type": "code",
   "execution_count": 5,
   "id": "b8ac3ddd",
   "metadata": {},
   "outputs": [
    {
     "name": "stdout",
     "output_type": "stream",
     "text": [
      "[0 0 1], 2, 0.0833\n",
      "[1 1 0], 4, 0.1601\n",
      "[0 0 2], 2, 0.1667\n",
      "[1 1 1], 8, 0.1805\n",
      "[0 2 0], 2, 0.2000\n",
      "[0 2 1], 4, 0.2167\n",
      "[1 1 2], 8, 0.2311\n",
      "[0 0 3], 2, 0.2500\n",
      "[2 0 0], 2, 0.2500\n",
      "[0 2 2], 4, 0.2603\n",
      "[2 0 1], 4, 0.2635\n",
      "[1 1 3], 8, 0.2969\n",
      "[2 0 2], 4, 0.3005\n",
      "[2 2 0], 4, 0.3202\n",
      "[0 2 3], 4, 0.3202\n",
      "[1 3 0], 4, 0.3250\n",
      "[2 2 1], 8, 0.3308\n",
      "[0 0 4], 2, 0.3333\n",
      "[1 3 1], 8, 0.3355\n",
      "[2 0 3], 4, 0.3536\n"
     ]
    }
   ],
   "source": [
    "# Print the Miller index, multiplicity and sin(theta) / lambda for the first 20 reflections of the list\n",
    "\n",
    "for i in range(20):\n",
    "    print(f\"{reflist['ref'][i]['h']}, {reflist['ref'][i]['mult']}, {reflist['ref'][i]['s']:.4f}\")"
   ]
  },
  {
   "cell_type": "code",
   "execution_count": null,
   "id": "e8060495",
   "metadata": {},
   "outputs": [],
   "source": []
  }
 ],
 "metadata": {
  "kernelspec": {
   "display_name": "Python 3 (ipykernel)",
   "language": "python",
   "name": "python3"
  },
  "language_info": {
   "codemirror_mode": {
    "name": "ipython",
    "version": 3
   },
   "file_extension": ".py",
   "mimetype": "text/x-python",
   "name": "python",
   "nbconvert_exporter": "python",
   "pygments_lexer": "ipython3",
   "version": "3.7.4"
  }
 },
 "nbformat": 4,
 "nbformat_minor": 5
}
