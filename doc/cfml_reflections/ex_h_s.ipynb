{
 "cells": [
  {
   "cell_type": "code",
   "execution_count": 1,
   "id": "7fa51420",
   "metadata": {},
   "outputs": [],
   "source": [
    "from pycrysfml08 import py_cfml_metrics\n",
    "from pycrysfml08 import py_cfml_reflections\n",
    "import numpy as np\n",
    "\n",
    "# Generate the cell\n",
    "\n",
    "abc = np.array([4.0,5.0,6.0],dtype=np.float32)\n",
    "albega = np.array([90.0,90.0,90.0],dtype=np.float32)\n",
    "\n",
    "err,err_mess,cell = py_cfml_metrics.set_crystal_cell(abc,albega)"
   ]
  },
  {
   "cell_type": "code",
   "execution_count": 2,
   "id": "7c45a709",
   "metadata": {},
   "outputs": [
    {
     "data": {
      "text/plain": [
       "(0, '', 0.26713013648986816)"
      ]
     },
     "execution_count": 2,
     "metadata": {},
     "output_type": "execute_result"
    }
   ],
   "source": [
    "# Compute sin(theta) / lambda for a crystal with one propagation vector: 1/4,0,0\n",
    "\n",
    "nk = 1\n",
    "kv = np.array([[0.25,0.0,0.0]],dtype=np.float32)\n",
    "h = np.array([1,2,1,1],dtype=np.int32)\n",
    "\n",
    "py_cfml_reflections.h_s(h,cell,{'nk':1,'kv':kv})\n"
   ]
  },
  {
   "cell_type": "code",
   "execution_count": null,
   "id": "72f5710c",
   "metadata": {},
   "outputs": [],
   "source": []
  }
 ],
 "metadata": {
  "kernelspec": {
   "display_name": "Python 3 (ipykernel)",
   "language": "python",
   "name": "python3"
  },
  "language_info": {
   "codemirror_mode": {
    "name": "ipython",
    "version": 3
   },
   "file_extension": ".py",
   "mimetype": "text/x-python",
   "name": "python",
   "nbconvert_exporter": "python",
   "pygments_lexer": "ipython3",
   "version": "3.7.4"
  }
 },
 "nbformat": 4,
 "nbformat_minor": 5
}
