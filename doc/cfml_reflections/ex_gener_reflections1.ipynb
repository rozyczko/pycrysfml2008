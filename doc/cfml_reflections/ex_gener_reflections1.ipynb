{
 "cells": [
  {
   "cell_type": "code",
   "execution_count": 1,
   "id": "eb0b2e51",
   "metadata": {},
   "outputs": [],
   "source": [
    "from pycrysfml08 import py_cfml_gspacegroups,py_cfml_metrics\n",
    "import numpy as np\n",
    "\n",
    "# Build an orthorhombic cell and the space group Pnma\n",
    "\n",
    "abc = np.array([10.3,6.0,4.7],dtype=np.float32)\n",
    "albega = np.array([90.0,90.0,90.0],dtype=np.float32)\n",
    "\n",
    "err,err_mess,cell = py_cfml_metrics.set_crystal_cell(abc,albega)\n",
    "err,err_mess,spg  = py_cfml_gspacegroups.set_spacegroup(\"SPGR Pnma\")"
   ]
  },
  {
   "cell_type": "code",
   "execution_count": 2,
   "id": "df1adddf",
   "metadata": {},
   "outputs": [],
   "source": [
    "from pycrysfml08 import py_cfml_reflections\n",
    "\n",
    "# Compute reflections \n",
    "\n",
    "slmin = 0.0\n",
    "slmax = 1.0\n",
    "\n",
    "err,err_mess,reflist,kout = py_cfml_reflections.gener_reflections(cell,slmin,slmax,{'spg':spg,'order':True,'friedel':True})"
   ]
  },
  {
   "cell_type": "code",
   "execution_count": 3,
   "id": "0296f74f",
   "metadata": {},
   "outputs": [
    {
     "name": "stdout",
     "output_type": "stream",
     "text": [
      "9160\n",
      "{}\n"
     ]
    }
   ],
   "source": [
    "# Print number of generated reflections, optional 'kout' variable is and empty dict\n",
    "\n",
    "print(reflist['nref'])\n",
    "print(kout)"
   ]
  },
  {
   "cell_type": "code",
   "execution_count": 4,
   "id": "b8ac3ddd",
   "metadata": {},
   "outputs": [
    {
     "name": "stdout",
     "output_type": "stream",
     "text": [
      "[2 0 0], 2, 0.0971\n",
      "[-2  0  0], 2, 0.0971\n",
      "[ 1  0 -1], 4, 0.1169\n",
      "[-1  0  1], 4, 0.1169\n",
      "[-1  0 -1], 4, 0.1169\n",
      "[1 0 1], 4, 0.1169\n",
      "[ 2 -1  0], 4, 0.1279\n",
      "[2 1 0], 4, 0.1279\n",
      "[-2 -1  0], 4, 0.1279\n",
      "[-2  1  0], 4, 0.1279\n",
      "[ 0 -1 -1], 4, 0.1351\n",
      "[ 0 -1  1], 4, 0.1351\n",
      "[ 0  1 -1], 4, 0.1351\n",
      "[0 1 1], 4, 0.1351\n",
      "[ 1 -1  1], 8, 0.1436\n",
      "[ 1  1 -1], 8, 0.1436\n",
      "[-1  1  1], 8, 0.1436\n",
      "[ 1 -1 -1], 8, 0.1436\n",
      "[-1  1 -1], 8, 0.1436\n",
      "[-1 -1  1], 8, 0.1436\n"
     ]
    }
   ],
   "source": [
    "# Print the Miller index, multiplicity and sin(theta) / lambda for the first 20 reflections of the list\n",
    "\n",
    "for i in range(20):\n",
    "    print(f\"{reflist['ref'][i]['h']}, {reflist['ref'][i]['mult']}, {reflist['ref'][i]['s']:.4f}\")"
   ]
  },
  {
   "cell_type": "code",
   "execution_count": null,
   "id": "e8060495",
   "metadata": {},
   "outputs": [],
   "source": []
  }
 ],
 "metadata": {
  "kernelspec": {
   "display_name": "Python 3 (ipykernel)",
   "language": "python",
   "name": "python3"
  },
  "language_info": {
   "codemirror_mode": {
    "name": "ipython",
    "version": 3
   },
   "file_extension": ".py",
   "mimetype": "text/x-python",
   "name": "python",
   "nbconvert_exporter": "python",
   "pygments_lexer": "ipython3",
   "version": "3.11.6"
  }
 },
 "nbformat": 4,
 "nbformat_minor": 5
}
