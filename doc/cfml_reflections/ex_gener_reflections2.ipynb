{
 "cells": [
  {
   "cell_type": "code",
   "execution_count": 1,
   "id": "eb0b2e51",
   "metadata": {},
   "outputs": [
    {
     "name": "stdout",
     "output_type": "stream",
     "text": [
      "\n"
     ]
    }
   ],
   "source": [
    "from pycrysfml08 import py_cfml_gspacegroups,py_cfml_metrics\n",
    "import numpy as np\n",
    "\n",
    "# Build an orthorhombic cell and the space group Pnma\n",
    "\n",
    "abc = np.array([10.3,6.0,4.7],dtype=np.float32)\n",
    "albega = np.array([90.0,90.0,90.0],dtype=np.float32)\n",
    "\n",
    "err,err_mess,cell = py_cfml_metrics.set_crystal_cell(abc,albega)\n",
    "err,err_mess,spg  = py_cfml_gspacegroups.set_spacegroup(\"SSG 13232\")\n",
    "print(err_mess)"
   ]
  },
  {
   "cell_type": "code",
   "execution_count": 2,
   "id": "df1adddf",
   "metadata": {},
   "outputs": [],
   "source": [
    "from pycrysfml08 import py_cfml_reflections\n",
    "\n",
    "# Compute reflections \n",
    "\n",
    "slmin = 0.0\n",
    "slmax = 1.0\n",
    "\n",
    "err,err_mess,reflist,kout = py_cfml_reflections.gener_reflections(cell,slmin,slmax,{'spg':spg,'friedel':True,'mag_only':True,'ref_typ':'mrefl'})"
   ]
  },
  {
   "cell_type": "code",
   "execution_count": 3,
   "id": "0296f74f",
   "metadata": {},
   "outputs": [
    {
     "name": "stdout",
     "output_type": "stream",
     "text": [
      "4888\n",
      "{'fortran_type': 'kvect_info_type', 'nk': 0, 'nq': 0, 'kv': array([], shape=(0, 0), dtype=float32), 'kv_std': array([], shape=(0, 0), dtype=float32), 'sintlim': array([], dtype=float32), 'nharm': array([], dtype=int32), 'q_coeff': array([], shape=(0, 0), dtype=int32)}\n"
     ]
    }
   ],
   "source": [
    "# Print number of generated reflections, optional 'kout' variable is and empty dict\n",
    "print(reflist['nref'])\n",
    "print(kout)"
   ]
  },
  {
   "cell_type": "code",
   "execution_count": 4,
   "id": "b8ac3ddd",
   "metadata": {},
   "outputs": [
    {
     "name": "stdout",
     "output_type": "stream",
     "text": [
      "[-20  -2   0], 4, 0.9851\n",
      "[-20  -1  -2], 8, 0.9974\n",
      "[-20  -1   0], 4, 0.9744\n",
      "[-20  -1   2], 8, 0.9974\n",
      "[-20   0  -2], 4, 0.9939\n",
      "[-20   0   0], 2, 0.9709\n",
      "[-20   0   2], 4, 0.9939\n",
      "[-20   1  -2], 8, 0.9974\n",
      "[-20   1   0], 4, 0.9744\n",
      "[-20   1   2], 8, 0.9974\n",
      "[-20   2   0], 4, 0.9851\n",
      "[-19  -4  -1], 8, 0.9865\n",
      "[-19  -4   1], 8, 0.9865\n",
      "[-19  -3  -1], 8, 0.9615\n",
      "[-19  -3   1], 8, 0.9615\n",
      "[-19  -2  -3], 8, 0.9901\n",
      "[-19  -2  -1], 8, 0.9433\n",
      "[-19  -2   1], 8, 0.9433\n",
      "[-19  -2   3], 8, 0.9901\n",
      "[-19  -1  -3], 8, 0.9795\n"
     ]
    }
   ],
   "source": [
    "# Print the Miller index, multiplicity and sin(theta) / lambda for the first 20 reflections of the list\n",
    "\n",
    "for i in range(20):\n",
    "    print(f\"{reflist['ref'][i]['h']}, {reflist['ref'][i]['mult']}, {reflist['ref'][i]['s']:.4f}\")"
   ]
  },
  {
   "cell_type": "code",
   "execution_count": null,
   "id": "e8060495",
   "metadata": {},
   "outputs": [],
   "source": []
  }
 ],
 "metadata": {
  "kernelspec": {
   "display_name": "Python 3 (ipykernel)",
   "language": "python",
   "name": "python3"
  },
  "language_info": {
   "codemirror_mode": {
    "name": "ipython",
    "version": 3
   },
   "file_extension": ".py",
   "mimetype": "text/x-python",
   "name": "python",
   "nbconvert_exporter": "python",
   "pygments_lexer": "ipython3",
   "version": "3.11.6"
  }
 },
 "nbformat": 4,
 "nbformat_minor": 5
}
