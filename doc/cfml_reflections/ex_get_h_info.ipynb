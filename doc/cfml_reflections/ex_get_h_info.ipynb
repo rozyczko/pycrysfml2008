{
 "cells": [
  {
   "cell_type": "code",
   "execution_count": 1,
   "id": "7fa51420",
   "metadata": {},
   "outputs": [],
   "source": [
    "from pycrysfml08 import py_cfml_gspacegroups\n",
    "from pycrysfml08 import py_cfml_reflections\n",
    "import numpy as np\n",
    "\n",
    "# Generate the space group\n",
    "\n",
    "err,err_mess,spg = py_cfml_gspacegroups.set_spacegroup(\"SPGR Fd-3m\")"
   ]
  },
  {
   "cell_type": "code",
   "execution_count": 2,
   "id": "7c45a709",
   "metadata": {},
   "outputs": [
    {
     "data": {
      "text/plain": [
       "(0, '', array([0, 0, 0, 2]))"
      ]
     },
     "execution_count": 2,
     "metadata": {},
     "output_type": "execute_result"
    }
   ],
   "source": [
    "# Example of an allowed reflection [1,0,0]\n",
    "\n",
    "h = np.array([1,1,1],dtype=np.int32)\n",
    "py_cfml_reflections.get_h_info(h,spg,False)\n"
   ]
  },
  {
   "cell_type": "code",
   "execution_count": 3,
   "id": "cb7b47be",
   "metadata": {},
   "outputs": [
    {
     "data": {
      "text/plain": [
       "(0, '', array([1, 1, 1, 2]))"
      ]
     },
     "execution_count": 3,
     "metadata": {},
     "output_type": "execute_result"
    }
   ],
   "source": [
    "# Example of a forbidden reflection [1,0,0]\n",
    "\n",
    "h = np.array([1,0,0],dtype=np.int32)\n",
    "py_cfml_reflections.get_h_info(h,spg,False)\n"
   ]
  },
  {
   "cell_type": "code",
   "execution_count": null,
   "id": "72f5710c",
   "metadata": {},
   "outputs": [],
   "source": []
  }
 ],
 "metadata": {
  "kernelspec": {
   "display_name": "Python 3 (ipykernel)",
   "language": "python",
   "name": "python3"
  },
  "language_info": {
   "codemirror_mode": {
    "name": "ipython",
    "version": 3
   },
   "file_extension": ".py",
   "mimetype": "text/x-python",
   "name": "python",
   "nbconvert_exporter": "python",
   "pygments_lexer": "ipython3",
   "version": "3.7.4"
  }
 },
 "nbformat": 4,
 "nbformat_minor": 5
}
