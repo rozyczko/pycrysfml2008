{
 "cells": [
  {
   "cell_type": "code",
   "execution_count": 1,
   "id": "7fa51420",
   "metadata": {},
   "outputs": [],
   "source": [
    "from pycrysfml08 import py_cfml_gspacegroups\n",
    "from pycrysfml08 import py_cfml_reflections\n",
    "import numpy as np\n",
    "\n",
    "# Generate the space group\n",
    "\n",
    "err,err_mess,spg = py_cfml_gspacegroups.set_spacegroup(\"SPGR R-3m\")"
   ]
  },
  {
   "cell_type": "code",
   "execution_count": 2,
   "id": "7c45a709",
   "metadata": {},
   "outputs": [
    {
     "data": {
      "text/plain": [
       "(0, '', True)"
      ]
     },
     "execution_count": 2,
     "metadata": {},
     "output_type": "execute_result"
    }
   ],
   "source": [
    "# Example of two equivalent reflections \n",
    "\n",
    "h = np.array([1,1,1],dtype=np.int32)\n",
    "k = np.array([1,-2,1],dtype=np.int32)\n",
    "py_cfml_reflections.h_equiv(h,k,spg)\n"
   ]
  },
  {
   "cell_type": "code",
   "execution_count": 3,
   "id": "72f5710c",
   "metadata": {},
   "outputs": [
    {
     "data": {
      "text/plain": [
       "(0, '', False)"
      ]
     },
     "execution_count": 3,
     "metadata": {},
     "output_type": "execute_result"
    }
   ],
   "source": [
    "# Example of two inequivalent reflections \n",
    "\n",
    "h = np.array([1,1,1],dtype=np.int32)\n",
    "k = np.array([0,0,1],dtype=np.int32)\n",
    "py_cfml_reflections.h_equiv(h,k,spg)"
   ]
  },
  {
   "cell_type": "code",
   "execution_count": null,
   "id": "5097feac",
   "metadata": {},
   "outputs": [],
   "source": []
  }
 ],
 "metadata": {
  "kernelspec": {
   "display_name": "Python 3 (ipykernel)",
   "language": "python",
   "name": "python3"
  },
  "language_info": {
   "codemirror_mode": {
    "name": "ipython",
    "version": 3
   },
   "file_extension": ".py",
   "mimetype": "text/x-python",
   "name": "python",
   "nbconvert_exporter": "python",
   "pygments_lexer": "ipython3",
   "version": "3.7.4"
  }
 },
 "nbformat": 4,
 "nbformat_minor": 5
}
