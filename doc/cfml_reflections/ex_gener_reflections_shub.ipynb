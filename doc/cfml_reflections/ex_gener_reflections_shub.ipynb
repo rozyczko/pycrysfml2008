{
 "cells": [
  {
   "cell_type": "code",
   "execution_count": 1,
   "id": "eb0b2e51",
   "metadata": {},
   "outputs": [],
   "source": [
    "from pycrysfml08 import py_cfml_gspacegroups,py_cfml_metrics\n",
    "import numpy as np\n",
    "\n",
    "# Build an orthorhombic cell and the space group Pnma\n",
    "\n",
    "abc = np.array([10.3,6.0,4.7],dtype=np.float32)\n",
    "albega = np.array([90.0,90.0,90.0],dtype=np.float32)\n",
    "\n",
    "err,err_mess,cell = py_cfml_metrics.set_crystal_cell(abc,albega)\n",
    "err,err_mess,spg  = py_cfml_gspacegroups.set_spacegroup(\"SPGR Pnma\")"
   ]
  },
  {
   "cell_type": "code",
   "execution_count": 5,
   "id": "df1adddf",
   "metadata": {},
   "outputs": [],
   "source": [
    "from pycrysfml08 import py_cfml_reflections\n",
    "\n",
    "# Compute reflections \n",
    "\n",
    "smax = 1.0\n",
    "\n",
    "err,err_mess,reflist = py_cfml_reflections.gener_reflections_shub(cell,spg,smax)"
   ]
  },
  {
   "cell_type": "code",
   "execution_count": 6,
   "id": "0296f74f",
   "metadata": {},
   "outputs": [
    {
     "data": {
      "text/plain": [
       "1442"
      ]
     },
     "execution_count": 6,
     "metadata": {},
     "output_type": "execute_result"
    }
   ],
   "source": [
    "# Print number of generated reflections\n",
    "\n",
    "reflist['nref']"
   ]
  },
  {
   "cell_type": "code",
   "execution_count": 7,
   "id": "b8ac3ddd",
   "metadata": {},
   "outputs": [
    {
     "name": "stdout",
     "output_type": "stream",
     "text": [
      "[1 0 0], 2, 0.0485\n",
      "[0 1 0], 2, 0.0833\n",
      "[1 1 0], 4, 0.0964\n",
      "[2 0 0], 2, 0.0971\n",
      "[0 0 1], 2, 0.1064\n",
      "[1 0 1], 4, 0.1169\n",
      "[2 1 0], 4, 0.1279\n",
      "[0 1 1], 4, 0.1351\n",
      "[1 1 1], 8, 0.1436\n",
      "[2 0 1], 4, 0.1440\n",
      "[3 0 0], 2, 0.1456\n",
      "[2 1 1], 8, 0.1664\n",
      "[0 2 0], 2, 0.1667\n",
      "[3 1 0], 4, 0.1678\n",
      "[1 2 0], 4, 0.1736\n",
      "[3 0 1], 4, 0.1803\n",
      "[2 2 0], 4, 0.1929\n",
      "[4 0 0], 2, 0.1942\n",
      "[0 2 1], 4, 0.1977\n",
      "[3 1 1], 8, 0.1987\n"
     ]
    }
   ],
   "source": [
    "# Print the Miller index, multiplicity and sin(theta) / lambda for the first 20 reflections of the list\n",
    "\n",
    "for i in range(20):\n",
    "    print(f\"{reflist['ref'][i]['h']}, {reflist['ref'][i]['mult']}, {reflist['ref'][i]['s']:.4f}\")"
   ]
  },
  {
   "cell_type": "code",
   "execution_count": null,
   "id": "e8060495",
   "metadata": {},
   "outputs": [],
   "source": []
  }
 ],
 "metadata": {
  "kernelspec": {
   "display_name": "Python 3 (ipykernel)",
   "language": "python",
   "name": "python3"
  },
  "language_info": {
   "codemirror_mode": {
    "name": "ipython",
    "version": 3
   },
   "file_extension": ".py",
   "mimetype": "text/x-python",
   "name": "python",
   "nbconvert_exporter": "python",
   "pygments_lexer": "ipython3",
   "version": "3.11.6"
  }
 },
 "nbformat": 4,
 "nbformat_minor": 5
}
