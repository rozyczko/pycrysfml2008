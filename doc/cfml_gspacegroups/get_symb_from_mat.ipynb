{
 "cells": [
  {
   "cell_type": "code",
   "execution_count": 1,
   "id": "ec1f3998",
   "metadata": {},
   "outputs": [
    {
     "data": {
      "text/plain": [
       "(0, '', '(1/2,1/2,0; a+b,a-b,c)')"
      ]
     },
     "execution_count": 1,
     "metadata": {},
     "output_type": "execute_result"
    }
   ],
   "source": [
    "from pycrysfml08 import py_cfml_gspacegroups\n",
    "import numpy as np\n",
    "\n",
    "mat = np.array([[1,1,0],[1,-1,0],[0,0,1]],dtype=np.int32)\n",
    "tr  = np.array([0.5,0.5,0],dtype=np.float32)\n",
    "\n",
    "py_cfml_gspacegroups.get_symb_from_mat(mat,tr)"
   ]
  },
  {
   "cell_type": "code",
   "execution_count": 2,
   "id": "b73e206f",
   "metadata": {
    "scrolled": true
   },
   "outputs": [
    {
     "data": {
      "text/plain": [
       "(0, '', '(a+b,a-b,c; 1/2,1/2,0)')"
      ]
     },
     "execution_count": 2,
     "metadata": {},
     "output_type": "execute_result"
    }
   ],
   "source": [
    "py_cfml_gspacegroups.get_symb_from_mat(mat,tr,{'opposite':True})"
   ]
  },
  {
   "cell_type": "code",
   "execution_count": null,
   "id": "24f4abe7",
   "metadata": {},
   "outputs": [],
   "source": []
  }
 ],
 "metadata": {
  "kernelspec": {
   "display_name": "Python 3 (ipykernel)",
   "language": "python",
   "name": "python3"
  },
  "language_info": {
   "codemirror_mode": {
    "name": "ipython",
    "version": 3
   },
   "file_extension": ".py",
   "mimetype": "text/x-python",
   "name": "python",
   "nbconvert_exporter": "python",
   "pygments_lexer": "ipython3",
   "version": "3.7.4"
  }
 },
 "nbformat": 4,
 "nbformat_minor": 5
}
