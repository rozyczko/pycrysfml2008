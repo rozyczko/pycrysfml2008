{
 "cells": [
  {
   "cell_type": "code",
   "execution_count": 1,
   "id": "98562f03",
   "metadata": {},
   "outputs": [],
   "source": [
    "from pycrysfml08 import py_cfml_gspacegroups\n",
    "\n",
    "# Generate the same group in two different settings\n",
    "\n",
    "err,err_mess,spg_1 = py_cfml_gspacegroups.set_spacegroup(\"HALL P 2y\")\n",
    "err,err_mess,spg_2 = py_cfml_gspacegroups.set_spacegroup(\"HALL P 2z\")"
   ]
  },
  {
   "cell_type": "code",
   "execution_count": 2,
   "id": "27227541",
   "metadata": {},
   "outputs": [
    {
     "data": {
      "text/plain": [
       "(0, '', False)"
      ]
     },
     "execution_count": 2,
     "metadata": {},
     "output_type": "execute_result"
    }
   ],
   "source": [
    "# Different settings are not considered equal\n",
    "\n",
    "py_cfml_gspacegroups.equal_group(spg_1,spg_2)"
   ]
  },
  {
   "cell_type": "code",
   "execution_count": null,
   "id": "6b260690",
   "metadata": {},
   "outputs": [],
   "source": []
  }
 ],
 "metadata": {
  "kernelspec": {
   "display_name": "Python 3 (ipykernel)",
   "language": "python",
   "name": "python3"
  },
  "language_info": {
   "codemirror_mode": {
    "name": "ipython",
    "version": 3
   },
   "file_extension": ".py",
   "mimetype": "text/x-python",
   "name": "python",
   "nbconvert_exporter": "python",
   "pygments_lexer": "ipython3",
   "version": "3.7.4"
  }
 },
 "nbformat": 4,
 "nbformat_minor": 5
}
