{
 "cells": [
  {
   "cell_type": "code",
   "execution_count": 1,
   "id": "83f4566e",
   "metadata": {},
   "outputs": [],
   "source": [
    "from pycrysfml08 import py_cfml_gspacegroups\n",
    "import numpy as np\n",
    "\n",
    "# Generate space group P622\n",
    "\n",
    "err,err_mess,spg = py_cfml_gspacegroups.set_spacegroup(\"SPGR P622\")"
   ]
  },
  {
   "cell_type": "code",
   "execution_count": 2,
   "id": "416bc9d1",
   "metadata": {},
   "outputs": [
    {
     "name": "stdout",
     "output_type": "stream",
     "text": [
      "Multiplicity:  12\n"
     ]
    }
   ],
   "source": [
    "# Multiplicity of general position (x,y,z)\n",
    "\n",
    "x = np.array([0.15,0.27,0.45],dtype=np.float32)\n",
    "err,err_mess,m = py_cfml_gspacegroups.get_multip_pos(x,spg)\n",
    "print('Multiplicity: ',m)"
   ]
  },
  {
   "cell_type": "code",
   "execution_count": 3,
   "id": "feb178e5",
   "metadata": {},
   "outputs": [
    {
     "name": "stdout",
     "output_type": "stream",
     "text": [
      "Multiplicity:  2\n"
     ]
    }
   ],
   "source": [
    "# Multiplicity of special position 2e (0,0,z)\n",
    "\n",
    "x = np.array([0.0,0.0,0.45],dtype=np.float32)\n",
    "err,err_mess,m = py_cfml_gspacegroups.get_multip_pos(x,spg)\n",
    "print('Multiplicity: ',m)"
   ]
  },
  {
   "cell_type": "code",
   "execution_count": null,
   "id": "394d732b",
   "metadata": {},
   "outputs": [],
   "source": []
  }
 ],
 "metadata": {
  "kernelspec": {
   "display_name": "Python 3 (ipykernel)",
   "language": "python",
   "name": "python3"
  },
  "language_info": {
   "codemirror_mode": {
    "name": "ipython",
    "version": 3
   },
   "file_extension": ".py",
   "mimetype": "text/x-python",
   "name": "python",
   "nbconvert_exporter": "python",
   "pygments_lexer": "ipython3",
   "version": "3.7.4"
  }
 },
 "nbformat": 4,
 "nbformat_minor": 5
}
