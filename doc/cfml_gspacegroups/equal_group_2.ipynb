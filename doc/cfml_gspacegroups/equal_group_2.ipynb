{
 "cells": [
  {
   "cell_type": "code",
   "execution_count": 1,
   "id": "ef328cf8",
   "metadata": {},
   "outputs": [],
   "source": [
    "from pycrysfml08 import py_cfml_gspacegroups\n",
    "\n",
    "# Generate the same group from two different set of generators\n",
    "\n",
    "err,err_mess,spg_1 = py_cfml_gspacegroups.set_spacegroup(\"GEN -x,-y,z;-x,y,-z\")\n",
    "err,err_mess,spg_2 = py_cfml_gspacegroups.set_spacegroup(\"GEN x,-y,-z;-x,y,-z\")"
   ]
  },
  {
   "cell_type": "code",
   "execution_count": 2,
   "id": "bf4d7944",
   "metadata": {},
   "outputs": [
    {
     "data": {
      "text/plain": [
       "(0, '', True)"
      ]
     },
     "execution_count": 2,
     "metadata": {},
     "output_type": "execute_result"
    }
   ],
   "source": [
    "# Different settings are not considered equal\n",
    "\n",
    "py_cfml_gspacegroups.equal_group(spg_1,spg_2)"
   ]
  },
  {
   "cell_type": "code",
   "execution_count": null,
   "id": "384b162e",
   "metadata": {},
   "outputs": [],
   "source": []
  }
 ],
 "metadata": {
  "kernelspec": {
   "display_name": "Python 3 (ipykernel)",
   "language": "python",
   "name": "python3"
  },
  "language_info": {
   "codemirror_mode": {
    "name": "ipython",
    "version": 3
   },
   "file_extension": ".py",
   "mimetype": "text/x-python",
   "name": "python",
   "nbconvert_exporter": "python",
   "pygments_lexer": "ipython3",
   "version": "3.7.4"
  }
 },
 "nbformat": 4,
 "nbformat_minor": 5
}
