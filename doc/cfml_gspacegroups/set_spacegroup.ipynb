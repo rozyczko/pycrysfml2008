{
 "cells": [
  {
   "cell_type": "code",
   "execution_count": 1,
   "id": "bca7ee7a",
   "metadata": {},
   "outputs": [],
   "source": [
    "from pycrysfml08 import py_cfml_gspacegroups\n",
    "\n",
    "# Generate the group Pn'ma\n",
    "\n",
    "err,err_mess,spg = py_cfml_gspacegroups.set_spacegroup(\"SHUB Pn'ma\")"
   ]
  },
  {
   "cell_type": "code",
   "execution_count": 2,
   "id": "9ca88117",
   "metadata": {},
   "outputs": [
    {
     "data": {
      "text/plain": [
       "['x,y,z,+1',\n",
       " 'x+1/2,-y+1/2,-z+1/2,+1',\n",
       " '-x,y+1/2,-z,-1',\n",
       " '-x+1/2,-y,z+1/2,-1',\n",
       " '-x,-y,-z,-1',\n",
       " '-x+1/2,y+1/2,z+1/2,-1',\n",
       " 'x,-y+1/2,z,+1',\n",
       " 'x+1/2,y,-z+1/2,+1']"
      ]
     },
     "execution_count": 2,
     "metadata": {},
     "output_type": "execute_result"
    }
   ],
   "source": [
    "# Symmetry operators\n",
    "\n",
    "spg['symb_op']"
   ]
  },
  {
   "cell_type": "code",
   "execution_count": 3,
   "id": "33c4cc0b",
   "metadata": {},
   "outputs": [
    {
     "data": {
      "text/plain": [
       "{'fortran_type': 'symm_oper_type',\n",
       " 'time_inv': 1,\n",
       " 'dt': 1,\n",
       " 'mat': array([[ 1. ,  0. ,  0. ,  0.5],\n",
       "        [ 0. , -1. ,  0. ,  0.5],\n",
       "        [ 0. ,  0. , -1. ,  0.5],\n",
       "        [ 0. ,  0. ,  0. ,  1. ]], dtype=float32)}"
      ]
     },
     "execution_count": 3,
     "metadata": {},
     "output_type": "execute_result"
    }
   ],
   "source": [
    "# Second symmetry operator\n",
    "\n",
    "spg['op'][1]"
   ]
  },
  {
   "cell_type": "code",
   "execution_count": 4,
   "id": "7575ab50",
   "metadata": {},
   "outputs": [
    {
     "data": {
      "text/plain": [
       "dict_keys(['fortran_type', 'multip', 'd', 'inv', 'op', 'symb_op', 'magnetic', 'standard_setting', 'numspg', 'numshu', 'numops', 'centred', 'anticentred', 'mag_type', 'num_lat', 'num_alat', 'parent_num', 'bravais_num', 'spg_lat', 'shu_lat', 'init_label', 'parent_spg', 'tfrom_parent', 'centre', 'spg_symb', 'bns_num', 'og_num', 'bns_symb', 'og_symb', 'hall', 'uni', 'uni_num', 'crystalsys', 'pg', 'mag_pg', 'laue', 'setting', 'mat2std', 'mat2std_shu', 'generators_list', 'centre_coord', 'anticentre_coord', 'lat_tr', 'alat_tr'])"
      ]
     },
     "execution_count": 4,
     "metadata": {},
     "output_type": "execute_result"
    }
   ],
   "source": [
    "spg.keys()"
   ]
  },
  {
   "cell_type": "code",
   "execution_count": null,
   "id": "a4824abe",
   "metadata": {},
   "outputs": [],
   "source": []
  }
 ],
 "metadata": {
  "kernelspec": {
   "display_name": "Python 3 (ipykernel)",
   "language": "python",
   "name": "python3"
  },
  "language_info": {
   "codemirror_mode": {
    "name": "ipython",
    "version": 3
   },
   "file_extension": ".py",
   "mimetype": "text/x-python",
   "name": "python",
   "nbconvert_exporter": "python",
   "pygments_lexer": "ipython3",
   "version": "3.7.4"
  }
 },
 "nbformat": 4,
 "nbformat_minor": 5
}
