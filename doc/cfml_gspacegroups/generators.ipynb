{
 "cells": [
  {
   "cell_type": "code",
   "execution_count": null,
   "id": "f8f86359",
   "metadata": {},
   "outputs": [],
   "source": [
    "# Generator strings\n",
    "\n",
    "\"SPGR B 2 C B\"                               # Crystallographic space group from symbol in standard setting \n",
    "\"SPGR 41\"                                    # Crystallographic space group from number in standard setting\n",
    "\"HALL P 2x\"                                  # Crystallographic space group from Hall symbol\n",
    "\"SHUB Pn'ma\"                                 # Shubnikov group from symbol in standard setting\n",
    "\"SHUB 1236\"                                  # Shubnikov group from number in standard setting\n",
    "\"SHUB Pn'ma :: -c,b,a;0,0,0\"                 # Shubnikov group from symbol in a non-standard setting\n",
    "\"UNI Pnna.1'_a[Pncm]\"                        # Shubnikov group from unified notation in standard setting\n",
    "\"MHALL F 2 -2d 1'n\"                          # Shubnikov group from magnetic Hall symbol\n",
    "\"SSG Pnma(0,0,g)0s0\"                         # Superspace group from symbol in standard setting\n",
    "\"SSG 13232\"                                  # Superspace group from number in standard setting\n",
    "\"SSG 221 :: a2,-a1,a3,a4;0,0,1/2,0\"          # Superspace group from number in a non-standard setting\n",
    "\"GEN x,y+1/2,z+1/2; -x,-y,z; x+1/2,-y+1/2,z\" # Crystallographic space group from a list of generators\n",
    "\"GEN x,-y,z,t,1;x,y,z,t+1/2,-1\"              # Magnetic superspace group from a list of generators\n",
    "\"GEN x1,-x2,x3,x4,1;x1,x2,x3,x4+1/2,-1\"      # Magnetic superspace group from a list of generators"
   ]
  }
 ],
 "metadata": {
  "kernelspec": {
   "display_name": "Python 3 (ipykernel)",
   "language": "python",
   "name": "python3"
  },
  "language_info": {
   "codemirror_mode": {
    "name": "ipython",
    "version": 3
   },
   "file_extension": ".py",
   "mimetype": "text/x-python",
   "name": "python",
   "nbconvert_exporter": "python",
   "pygments_lexer": "ipython3",
   "version": "3.7.4"
  }
 },
 "nbformat": 4,
 "nbformat_minor": 5
}
