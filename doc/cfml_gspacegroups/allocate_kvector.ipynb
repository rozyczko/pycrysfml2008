{
 "cells": [
  {
   "cell_type": "code",
   "execution_count": 1,
   "id": "83f4566e",
   "metadata": {},
   "outputs": [],
   "source": [
    "from pycrysfml08 import py_cfml_gspacegroups\n",
    "\n",
    "# Allocate kvector object\n",
    "\n",
    "err,err_mess,kvec = py_cfml_gspacegroups.allocate_kvector(2,3)"
   ]
  },
  {
   "cell_type": "code",
   "execution_count": 2,
   "id": "416bc9d1",
   "metadata": {},
   "outputs": [
    {
     "name": "stdout",
     "output_type": "stream",
     "text": [
      "Multiplicity:  12\n"
     ]
    }
   ],
   "source": [
    "# Contents of kvector object\n",
    "\n",
    "print(kvec)"
   ]
  }
 ],
 "metadata": {
  "kernelspec": {
   "display_name": "Python 3 (ipykernel)",
   "language": "python",
   "name": "python3"
  },
  "language_info": {
   "codemirror_mode": {
    "name": "ipython",
    "version": 3
   },
   "file_extension": ".py",
   "mimetype": "text/x-python",
   "name": "python",
   "nbconvert_exporter": "python",
   "pygments_lexer": "ipython3",
   "version": "3.7.4"
  }
 },
 "nbformat": 4,
 "nbformat_minor": 5
}
