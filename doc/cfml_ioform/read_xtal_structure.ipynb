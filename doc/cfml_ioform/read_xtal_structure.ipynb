{
 "cells": [
  {
   "cell_type": "code",
   "execution_count": 1,
   "id": "0a588e9c",
   "metadata": {},
   "outputs": [],
   "source": [
    "from pycrysfml08 import py_cfml_ioform\n",
    "\n",
    "# Read mcif file\n",
    "\n",
    "err,err_mess,cell,spg,atoms,mgp,matm,magdom = py_cfml_ioform.read_xtal_structure('GdMn2O5.mcif')"
   ]
  },
  {
   "cell_type": "code",
   "execution_count": 2,
   "id": "adf79a36",
   "metadata": {},
   "outputs": [
    {
     "name": "stdout",
     "output_type": "stream",
     "text": [
      "a,b,c:             [14.7062  8.5371  5.6807]\n",
      "alpha,beta,gamma:  [90. 90. 90.]\n"
     ]
    }
   ],
   "source": [
    "# Lattice parameters\n",
    "\n",
    "print('a,b,c:            ',cell['cell'])\n",
    "print('alpha,beta,gamma: ',cell['ang'])"
   ]
  },
  {
   "cell_type": "code",
   "execution_count": 3,
   "id": "1a96a247",
   "metadata": {},
   "outputs": [
    {
     "name": "stdout",
     "output_type": "stream",
     "text": [
      "BNS symbol: P_aca2_1      \n",
      "OG  symbol: P_2bm'c'2_1   \n"
     ]
    }
   ],
   "source": [
    "# Space group\n",
    "\n",
    "print('BNS symbol:',spg['bns_symb'])\n",
    "print('OG  symbol:',spg['og_symb'])"
   ]
  },
  {
   "cell_type": "code",
   "execution_count": 4,
   "id": "1dd3aa7e",
   "metadata": {
    "scrolled": true
   },
   "outputs": [
    {
     "name": "stdout",
     "output_type": "stream",
     "text": [
      "Atom        Mx            My        Mz\n",
      "  Gd     4.870         1.630     0.000\n",
      "  Gd    -4.510        -1.500     0.000\n",
      "  Mn    -2.850         0.950     0.000\n",
      "  Mn     3.800        -1.270     0.000\n",
      "  Mn     3.800        -1.270     0.000\n",
      "  O      0.000         0.000     0.000\n",
      "  O      0.000         0.000     0.000\n",
      "  O      0.000         0.000     0.000\n",
      "  O      0.000         0.000     0.000\n",
      "  O      0.000         0.000     0.000\n",
      "  O      0.000         0.000     0.000\n",
      "  O      0.000         0.000     0.000\n"
     ]
    }
   ],
   "source": [
    "# Print the components of the magnetic moment for each atom of the unit cell\n",
    "\n",
    "print(f\"{'Atom':>4}{'Mx':>10}{'My':>14}{'Mz':>10}\")\n",
    "for i in range(atoms['natoms']):\n",
    "    print(f\"{atoms['atom'][i]['chemsymb']:>4}{atoms['atom'][i]['moment'][0]:>10.3f}\\\n",
    "    {atoms['atom'][i]['moment'][1]:>10.3f}{atoms['atom'][i]['moment'][2]:>10.3f}\")"
   ]
  },
  {
   "cell_type": "code",
   "execution_count": null,
   "id": "7c591d50",
   "metadata": {},
   "outputs": [],
   "source": []
  },
  {
   "cell_type": "code",
   "execution_count": null,
   "id": "85421ee6",
   "metadata": {},
   "outputs": [],
   "source": []
  }
 ],
 "metadata": {
  "kernelspec": {
   "display_name": "Python 3 (ipykernel)",
   "language": "python",
   "name": "python3"
  },
  "language_info": {
   "codemirror_mode": {
    "name": "ipython",
    "version": 3
   },
   "file_extension": ".py",
   "mimetype": "text/x-python",
   "name": "python",
   "nbconvert_exporter": "python",
   "pygments_lexer": "ipython3",
   "version": "3.7.4"
  }
 },
 "nbformat": 4,
 "nbformat_minor": 5
}
